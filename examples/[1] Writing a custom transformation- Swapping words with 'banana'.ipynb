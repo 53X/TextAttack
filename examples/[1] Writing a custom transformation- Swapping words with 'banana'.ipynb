{
 "cells": [
  {
   "cell_type": "markdown",
   "metadata": {},
   "source": [
    "# The TextAttack🐙 ecosystem: search, transformations, and constraints\n",
    "\n",
    "An attack in TextAttack consists of three basic parts.\n",
    "\n",
    "### Search method\n",
    "The **search method** which explores the space of potential transformations and tries to locate a successful attack. Greedy search, beam search, and brute-force search are all examples of search methods. Since the search method is the backbone of the attack, the term \"search\" is often substituted with \"attack method\" or just \"attack\". In TextAttack, all three of those terms (search, attack, attack method) mean the same thing.\n",
    "\n",
    "### Transformation\n",
    "A **transformation** takes a text input and transforms it, replacing words or phrases with similar ones, while trying not to change the meaning. Paraphrase and synonym substitution are two broad classes of transformations.\n",
    "\n",
    "### Constraints\n",
    "Finally, **constraints** determine whether or not a given transformation is valid. Transformations don't perfectly preserve syntax or semantics, so additional constraints can increase the probability that these qualities are preserved from the source to adversarial example. There are many types of constraints: overlap constraints that measure edit distance, syntactical  constraints check part-of-speech and grammar errors, and semantic constraints like language models and sentence encoders."
   ]
  },
  {
   "cell_type": "markdown",
   "metadata": {},
   "source": [
    "# A custom transformation\n",
    "\n",
    "This lesson explains how to create a custom transformation. In TextAttack, many transformations involve *word swaps*: they take a word and try and find suitable substitutes. Some attacks focus on replacing characters with neighboring characters induce \"typos\". (These don't intend to preserve the grammaticality of inputs.) Other attacks rely on semantics: they take a word and try to replace it with semantic equivalents.\n",
    "\n",
    "\n",
    "### Banana word swap 🍌\n",
    "\n",
    "As an introduction to writing transformations for TextAttack, we're going to try a very simple transformation: one that replaces any given word with the word 'banana'. In TextAttack, there's an abstract `WordSwap` class that handles the heavy lifting of breaking sentences into words and avoiding replacement of stopwords. We can extend `WordSwap` and implement a single method, `_get_replacement_words`, to indicate to replace each word with 'banana'."
   ]
  },
  {
   "cell_type": "code",
   "execution_count": 1,
   "metadata": {
    "collapsed": true
   },
   "outputs": [],
   "source": [
    "from textattack.transformations.word_swap import WordSwap\n",
    "\n",
    "class BananaWordSwap(WordSwap):\n",
    "    \"\"\" Transforms an input by replacing any word with 'banana'.\n",
    "    \"\"\"\n",
    "    \n",
    "    # We don't need a constructor, since our class doesn't require any parameters.\n",
    "\n",
    "    def _get_replacement_words(self, word):\n",
    "        \"\"\" Returns 'banana', no matter what 'word' was originally.\n",
    "        \n",
    "            Returns a list with one item, since `_get_replacement_words` is intended to\n",
    "                return a list of candidate replacement words.\n",
    "        \"\"\"\n",
    "        return ['banana']"
   ]
  },
  {
   "cell_type": "markdown",
   "metadata": {
    "collapsed": true
   },
   "source": [
    "## Using our transformation\n",
    "\n",
    "Now we have the transformation chosen, but we're missing a few other things. To complete the attack, we need to choose the **search method** and **constraints**. And to use the attack, we need a **goal function**, a **model** and a **dataset**. (The goal function indicates the task our model performs – in this case, classification – and the type of attack – in this case, we'll perform an untargeted attack.)\n",
    "\n",
    "### Creating the goal function, model, and dataset\n",
    "We are performing an untargeted attack on a classification model, so we'll use the `UntargetedClassification` class. For the model, let's use an LSTM trained for news classification on the AG News dataset. Luckily, TextAttack comes with 1000 text samples from some popular datasets, as well as pretrained models for those datasets. So we don't have to train our own model, or procure someone else's. We can just use the built-in datasets and models for this."
   ]
  },
  {
   "cell_type": "code",
   "execution_count": 2,
   "metadata": {
    "collapsed": true
   },
   "outputs": [],
   "source": [
    "# Import the dataset.\n",
    "from textattack.datasets.classification import AGNews\n",
    "# Create the model.\n",
    "from textattack.models.classification.lstm import LSTMForAGNewsClassification\n",
    "model = LSTMForAGNewsClassification()\n",
    "# Create the goal function using the model.\n",
    "from textattack.goal_functions import UntargetedClassification\n",
    "goal_function = UntargetedClassification(model)"
   ]
  },
  {
   "cell_type": "markdown",
   "metadata": {},
   "source": [
    "### Creating the attack\n",
    "Let's keep it simple: let's use a greedy search method, and let's not use any constraints for now. "
   ]
  },
  {
   "cell_type": "code",
   "execution_count": 22,
   "metadata": {
    "collapsed": true
   },
   "outputs": [],
   "source": [
    "from textattack.attack_methods import GreedyWordSwap\n",
    "\n",
    "# We're going to use our Banana word swap class as the attack transformation.\n",
    "transformation = BananaWordSwap() \n",
    "# And, we don't want to use any constraints.\n",
    "constraints = []\n",
    "# Now, let's make the attack using these parameters:\n",
    "attack = GreedyWordSwap(goal_function, transformation, constraints)"
   ]
  },
  {
   "cell_type": "markdown",
   "metadata": {},
   "source": [
    "### Using the attack\n",
    "\n",
    "Let's use our attack to attack 10 samples (by setting `num_examples` to 10). Additionally, we set `attack_n` to `True`, which indicates that we should attack 10 samples, no matter what. If the model mispredicts a sample already, it isn't attacked; since `attack_n` is `True`, if a sample is mispredicted, we'll take try the next thing in the dataset, and continue until `num_examples` attacks have been completed."
   ]
  },
  {
   "cell_type": "code",
   "execution_count": 5,
   "metadata": {},
   "outputs": [
    {
     "name": "stderr",
     "output_type": "stream",
     "text": [
      "CSVLogger exiting without calling flush().\n",
      "100%|██████████| 10/10 [00:02<00:00,  4.61it/s]\n"
     ]
    }
   ],
   "source": [
    "from tqdm import tqdm # tqdm provides us a nice progress bar.\n",
    "from textattack.loggers import CSVLogger # tracks a dataframe for us.\n",
    "\n",
    "results_iterable = attack.attack_dataset(AGNews(), num_examples=10, attack_n=True)\n",
    "results = []\n",
    "\n",
    "logger = CSVLogger(color_method='html')\n",
    "\n",
    "for result in tqdm(results_iterable, total=10):\n",
    "    logger.log_attack_result(result)"
   ]
  },
  {
   "cell_type": "markdown",
   "metadata": {},
   "source": [
    "### Visualizing attack results\n",
    "\n",
    "We are logging `AttackResult` objects using a `CSVLogger`. This logger stores all attack results in a dataframe, which we can easily access and display. Since we set `color_method` to `'html'`, the attack results will display their differences, in color, in HTML. Using `IPython` utilities and `pandas`"
   ]
  },
  {
   "cell_type": "code",
   "execution_count": 21,
   "metadata": {},
   "outputs": [
    {
     "data": {
      "text/html": [
       "<table border=\"1\" class=\"dataframe\">\n",
       "  <thead>\n",
       "    <tr style=\"text-align: right;\">\n",
       "      <th></th>\n",
       "      <th>passage_1</th>\n",
       "      <th>passage_2</th>\n",
       "    </tr>\n",
       "  </thead>\n",
       "  <tbody>\n",
       "    <tr>\n",
       "      <th>0</th>\n",
       "      <td>Thirst, Fear and Bribes on Desert Escape from Africa <font color = red>AGADEZ</font>, Niger (Reuters) - <font color = red>Customs</font> officers in this dusty Saharan town turned a <font color = red>blind</font> <font color = red>eye</font> as <font color = red>yet</font> another creaking truck piled with grain, smuggled cigarettes and dozens of migrants heading for Europe rumbled off into the desert.</td>\n",
       "      <td>Thirst, Fear and Bribes on Desert Escape from Africa <font color = blue>banana</font>, Niger (Reuters) - <font color = blue>banana</font> officers in this dusty Saharan town turned a <font color = blue>banana</font> <font color = blue>banana</font> as <font color = blue>banana</font> another creaking truck piled with grain, smuggled cigarettes and dozens of migrants heading for Europe rumbled off into the desert.</td>\n",
       "    </tr>\n",
       "    <tr>\n",
       "      <th>1</th>\n",
       "      <td>Toshiba 20 TV freaks out, sends distress signal See what <font color = purple>happens</font> when your warranty runs out?. In this case, a 20 Toshiba owned by Chris van Rossman started sending out the international distress signal at 121.</td>\n",
       "      <td>Toshiba 20 TV freaks out, sends distress signal See what <font color = blue>banana</font> when your warranty runs out?. In this case, a 20 Toshiba owned by Chris van Rossman started sending out the international distress signal at 121.</td>\n",
       "    </tr>\n",
       "    <tr>\n",
       "      <th>2</th>\n",
       "      <td>British hostage tried fleeing before death: report The portrait of Ken <font color = purple>Bigley</font>, who was murdered in Iraq October 7, stands in front of the congregation during a service at Liverpool #39;s Roman Catholic Cathedral on October 10.</td>\n",
       "      <td>British hostage tried fleeing before death: report The portrait of Ken <font color = red>banana</font>, who was murdered in Iraq October 7, stands in front of the congregation during a service at Liverpool #39;s Roman Catholic Cathedral on October 10.</td>\n",
       "    </tr>\n",
       "    <tr>\n",
       "      <th>3</th>\n",
       "      <td><font color = purple>Keychain</font> <font color = purple>clicker</font> kills <font color = purple>TVs</font> <font color = purple>Discrete</font> <font color = purple>device</font> <font color = purple>turns</font> off <font color = purple>televisions</font>, <font color = purple>creating</font> a <font color = purple>little</font> <font color = purple>peace</font> and <font color = purple>quiet</font>. Until the yelling starts.</td>\n",
       "      <td><font color = blue>banana</font> <font color = blue>banana</font> kills <font color = blue>banana</font> <font color = blue>banana</font> <font color = blue>banana</font> <font color = blue>banana</font> off <font color = blue>banana</font>, <font color = blue>banana</font> a <font color = blue>banana</font> <font color = blue>banana</font> and <font color = blue>banana</font>. Until the yelling starts.</td>\n",
       "    </tr>\n",
       "    <tr>\n",
       "      <th>4</th>\n",
       "      <td><font color = red>Cleric</font> <font color = red>returns</font> to <font color = red>Iraq</font>, <font color = red>orders</font> <font color = red>march</font> on <font color = red>Najaf</font> <font color = red>Powerful</font> <font color = red>Shiite</font> <font color = red>leader</font> <font color = red>says</font> he <font color = red>plans</font> to <font color = red>lead</font> a <font color = red>mass</font> <font color = red>demonstration</font> <font color = red>today</font> to <font color = red>end</font> <font color = red>fighting</font>. <font color = red>Iraqi</font> <font color = red>hostage</font>: Militants <font color = red>said</font> <font color = red>Wednesday</font> they had <font color = red>kidnapped</font> the <font color = red>brother</font>-in-<font color = red>law</font> of <font color = red>Iraqi</font> <font color = red>Defense</font> <font color = red>Minister</font> <font color = red>Hazem</font> <font color = red>Shaalan</font></td>\n",
       "      <td><font color = blue>banana</font> <font color = blue>banana</font> to <font color = blue>banana</font>, <font color = blue>banana</font> <font color = blue>banana</font> on <font color = blue>banana</font> <font color = blue>banana</font> <font color = blue>banana</font> <font color = blue>banana</font> <font color = blue>banana</font> he <font color = blue>banana</font> to <font color = blue>banana</font> a <font color = blue>banana</font> <font color = blue>banana</font> <font color = blue>banana</font> to <font color = blue>banana</font> <font color = blue>banana</font>. <font color = blue>banana</font> <font color = blue>banana</font>: Militants <font color = blue>banana</font> <font color = blue>banana</font> they had <font color = blue>banana</font> the <font color = blue>banana</font>-in-<font color = blue>banana</font> of <font color = blue>banana</font> <font color = blue>banana</font> <font color = blue>banana</font> <font color = blue>banana</font> <font color = blue>banana</font></td>\n",
       "    </tr>\n",
       "    <tr>\n",
       "      <th>5</th>\n",
       "      <td>Hewitt Beats Roddick to <font color = green>Reach</font> <font color = green>Masters</font> Final HOUSTON (Reuters) - A fired-up <font color = green>Lleyton</font> <font color = green>Hewitt</font> <font color = green>defused</font> <font color = green>hard</font>-<font color = green>hitting</font> Andy Roddick 6-3, 6-2 on <font color = green>Saturday</font>, scurrying into the final of the Masters Cup for the third time in four years.</td>\n",
       "      <td>Hewitt Beats Roddick to <font color = blue>banana</font> <font color = blue>banana</font> Final HOUSTON (Reuters) - A fired-up <font color = blue>banana</font> <font color = blue>banana</font> <font color = blue>banana</font> <font color = blue>banana</font>-<font color = blue>banana</font> Andy Roddick 6-3, 6-2 on <font color = blue>banana</font>, scurrying into the final of the Masters Cup for the third time in four years.</td>\n",
       "    </tr>\n",
       "    <tr>\n",
       "      <th>6</th>\n",
       "      <td><font color = blue>Despite</font> <font color = blue>booming</font> <font color = blue>economy</font>, no <font color = blue>concrete</font> <font color = blue>move</font> on <font color = blue>debt</font> <font color = blue>relief</font> (AFP) AFP - Senior finance officials have hailed a robust global economic recovery, albeit one threatened by surging oil <font color = blue>prices</font>, but <font color = blue>made</font> <font color = blue>little</font> <font color = blue>headway</font> <font color = blue>pushing</font> <font color = blue>China</font> <font color = blue>toward</font> <font color = blue>currency</font> <font color = blue>reform</font> and <font color = blue>took</font> no firm steps to ease the debt of the world's poorest nations.</td>\n",
       "      <td><font color = red>banana</font> <font color = red>banana</font> <font color = red>banana</font>, no <font color = red>banana</font> <font color = red>banana</font> on <font color = red>banana</font> <font color = red>banana</font> (AFP) AFP - Senior finance officials have hailed a robust global economic recovery, albeit one threatened by surging oil <font color = red>banana</font>, but <font color = red>banana</font> <font color = red>banana</font> <font color = red>banana</font> <font color = red>banana</font> <font color = red>banana</font> <font color = red>banana</font> <font color = red>banana</font> <font color = red>banana</font> and <font color = red>banana</font> no firm steps to ease the debt of the world's poorest nations.</td>\n",
       "    </tr>\n",
       "    <tr>\n",
       "      <th>7</th>\n",
       "      <td>Just a <font color = green>close</font> call for closer No <font color = green>need</font> to <font color = green>check</font> with your primary care provider about the <font color = green>origin</font> of that <font color = green>nervous</font> tic you woke up with this <font color = green>morning</font>, on the first full day of autumn. Ninth-inning home runs allowed in three consecutive games by Sox <font color = green>closer</font> Keith <font color = green>Foulke</font>, who also was tagged with blown saves in each of the last two <font color = green>games</font>, were <font color = green>enough</font> to <font color = green>leave</font> ...</td>\n",
       "      <td>Just a <font color = blue>banana</font> call for closer No <font color = blue>banana</font> to <font color = blue>banana</font> with your primary care provider about the <font color = blue>banana</font> of that <font color = blue>banana</font> tic you woke up with this <font color = blue>banana</font>, on the first full day of autumn. Ninth-inning home runs allowed in three consecutive games by Sox <font color = blue>banana</font> Keith <font color = blue>banana</font>, who also was tagged with blown saves in each of the last two <font color = blue>banana</font>, were <font color = blue>banana</font> to <font color = blue>banana</font> ...</td>\n",
       "    </tr>\n",
       "    <tr>\n",
       "      <th>8</th>\n",
       "      <td><font color = purple>Study</font>: Wild Monkeys Resort to Use of Tools WASHINGTON - Wild South <font color = purple>American</font> <font color = purple>monkeys</font> <font color = purple>routinely</font> <font color = purple>use</font> <font color = purple>fist</font>-<font color = purple>sized</font> <font color = purple>rocks</font> to crack open <font color = purple>seeds</font> and to dig in dry Brazilian soil for grubs and <font color = purple>edible</font> <font color = purple>tubers</font>, <font color = purple>researchers</font> report in the journal Science.</td>\n",
       "      <td><font color = blue>banana</font>: Wild Monkeys Resort to Use of Tools WASHINGTON - Wild South <font color = blue>banana</font> <font color = blue>banana</font> <font color = blue>banana</font> <font color = blue>banana</font> <font color = blue>banana</font>-<font color = blue>banana</font> <font color = blue>banana</font> to crack open <font color = blue>banana</font> and to dig in dry Brazilian soil for grubs and <font color = blue>banana</font> <font color = blue>banana</font>, <font color = blue>banana</font> report in the journal Science.</td>\n",
       "    </tr>\n",
       "  </tbody>\n",
       "</table>"
      ],
      "text/plain": [
       "<IPython.core.display.HTML object>"
      ]
     },
     "metadata": {},
     "output_type": "display_data"
    }
   ],
   "source": [
    "import pandas as pd\n",
    "pd.options.display.max_colwidth = 480 # increase colum width so we can actually read the examples\n",
    "\n",
    "from IPython.core.display import display, HTML\n",
    "display(HTML(logger.df[['passage_1', 'passage_2']].to_html(escape=False)))"
   ]
  },
  {
   "cell_type": "markdown",
   "metadata": {
    "collapsed": true
   },
   "source": [
    "## Conclusion 🍌\n",
    "\n",
    "We can examine these examples for a good idea of how many words had to be changed to \"banana\" to change the prediction score from the correct class to another class. Looks like some examples needed only a single \"banana\", while others needed up to 17 \"banana\" substitutions to change the class score. Wow!"
   ]
  }
 ],
 "metadata": {
  "kernelspec": {
   "display_name": "newtorch",
   "language": "python",
   "name": "newtorch"
  },
  "language_info": {
   "codemirror_mode": {
    "name": "ipython",
    "version": 3
   },
   "file_extension": ".py",
   "mimetype": "text/x-python",
   "name": "python",
   "nbconvert_exporter": "python",
   "pygments_lexer": "ipython3",
   "version": "3.7.6"
  }
 },
 "nbformat": 4,
 "nbformat_minor": 2
}
